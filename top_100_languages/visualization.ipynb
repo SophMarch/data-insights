{
 "metadata": {
  "language_info": {
   "codemirror_mode": {
    "name": "ipython",
    "version": 3
   },
   "file_extension": ".py",
   "mimetype": "text/x-python",
   "name": "python",
   "nbconvert_exporter": "python",
   "pygments_lexer": "ipython3",
   "version": "3.9.5"
  },
  "orig_nbformat": 4,
  "kernelspec": {
   "name": "python3",
   "display_name": "Python 3.9.5 64-bit ('visu': conda)"
  },
  "interpreter": {
   "hash": "d2243aa580dcc436d043bc7f66c8cbe8058e376e228518e444fe3d78d17a9514"
  }
 },
 "nbformat": 4,
 "nbformat_minor": 2,
 "cells": [
  {
   "source": [
    "Inpired from the Kaggle post: https://www.kaggle.com/pmarcelino/comprehensive-data-exploration-with-python\n",
    "\n",
    "1. Understand the problem\n",
    "2. Univariable study\n",
    "3. Multivariate study\n",
    "4. Basic cleaning\n",
    "5. Test assumption \n",
    "\n",
    "Download the data from https://www.kaggle.com/narmelan/100-most-spoken-languages-around-the-world\n",
    "\n",
    "And export them by adapting the variable PATH_TO_DATA"
   ],
   "cell_type": "markdown",
   "metadata": {}
  },
  {
   "cell_type": "code",
   "execution_count": 10,
   "metadata": {},
   "outputs": [],
   "source": [
    "\n",
    "# Import libraries and data\n",
    "from IPython.core.interactiveshell import InteractiveShell\n",
    "InteractiveShell.ast_node_interactivity = \"all\"\n",
    "from decouple import config\n",
    "import pandas as pd\n",
    "\n",
    "PATH_TO_DATA = config(\"PATH_TO_DATA\")\n",
    "data = pd.read_csv(PATH_TO_DATA)"
   ]
  },
  {
   "source": [
    "## 1. Understand the problem\n",
    "Here we want to check our understanding of the raw data as well as which questions we are trying to answer with them. Main questions are: \n",
    "- What is the meaning of each variable/column in the real world?\n",
    "- Can potentially interesting variables be generated from the existing ones?\n",
    "- When and how were the data collected?\n",
    "- Is the sample size enough to draw generalizations? \n",
    "- What are the research/business questions that can be tackled based on those data? \n",
    "\n",
    "Let's consider each of those aspects with the following first steps of data exploration."
   ],
   "cell_type": "markdown",
   "metadata": {}
  },
  {
   "cell_type": "code",
   "execution_count": 17,
   "metadata": {},
   "outputs": [
    {
     "output_type": "stream",
     "name": "stdout",
     "text": [
      "<class 'pandas.core.frame.DataFrame'>\nRangeIndex: 100 entries, 0 to 99\nData columns (total 4 columns):\n #   Column           Non-Null Count  Dtype  \n---  ------           --------------  -----  \n 0   Language         100 non-null    object \n 1   Total Speakers   100 non-null    int64  \n 2   Native Speakers  96 non-null     float64\n 3   Origin           100 non-null    object \ndtypes: float64(1), int64(1), object(2)\nmemory usage: 3.2+ KB\n\n"
     ]
    },
    {
     "output_type": "execute_result",
     "data": {
      "text/plain": [
       "           Language  Total Speakers  Native Speakers         Origin\n",
       "0           English      1132366680      379007140.0  Indo-European\n",
       "1  Mandarin Chinese      1116596640      917868640.0   Sino-Tibetan\n",
       "2             Hindi       615475540      341208640.0  Indo-European\n",
       "3           Spanish       534335730      460093030.0  Indo-European\n",
       "4            French       279821930       77177210.0  Indo-European"
      ],
      "text/html": "<div>\n<style scoped>\n    .dataframe tbody tr th:only-of-type {\n        vertical-align: middle;\n    }\n\n    .dataframe tbody tr th {\n        vertical-align: top;\n    }\n\n    .dataframe thead th {\n        text-align: right;\n    }\n</style>\n<table border=\"1\" class=\"dataframe\">\n  <thead>\n    <tr style=\"text-align: right;\">\n      <th></th>\n      <th>Language</th>\n      <th>Total Speakers</th>\n      <th>Native Speakers</th>\n      <th>Origin</th>\n    </tr>\n  </thead>\n  <tbody>\n    <tr>\n      <th>0</th>\n      <td>English</td>\n      <td>1132366680</td>\n      <td>379007140.0</td>\n      <td>Indo-European</td>\n    </tr>\n    <tr>\n      <th>1</th>\n      <td>Mandarin Chinese</td>\n      <td>1116596640</td>\n      <td>917868640.0</td>\n      <td>Sino-Tibetan</td>\n    </tr>\n    <tr>\n      <th>2</th>\n      <td>Hindi</td>\n      <td>615475540</td>\n      <td>341208640.0</td>\n      <td>Indo-European</td>\n    </tr>\n    <tr>\n      <th>3</th>\n      <td>Spanish</td>\n      <td>534335730</td>\n      <td>460093030.0</td>\n      <td>Indo-European</td>\n    </tr>\n    <tr>\n      <th>4</th>\n      <td>French</td>\n      <td>279821930</td>\n      <td>77177210.0</td>\n      <td>Indo-European</td>\n    </tr>\n  </tbody>\n</table>\n</div>"
     },
     "metadata": {},
     "execution_count": 17
    }
   ],
   "source": [
    "data.info()\n",
    "print(\"\")\n",
    "data.head()"
   ]
  },
  {
   "source": [
    "We identify 4 variables whom 2 numerical and 2 categorical for a total of 100 samples. Apparently few or no missing data as indicated by the \"Non-Null Count\". Regarding the meaning of each variables:\n",
    "- **Language**: object type containing the English name of each language \n",
    "- **Total Speakers**: int type measuring the number of speakers for each language which inludes both native and non-native speakers\n",
    "- **Native Speakers**: float type representing the number of people whom the mother tongue is the associated language on the same row\n",
    "- **Origin**: object type describing the [family origin group of each language](https://en.wikipedia.org/wiki/Language_family)\n",
    "\n",
    "We noticed that the simple transformation $Total\\;Speakers - Native\\;Speakers$ will give us access to the number of non-native speakers to extend the analysis. From the [metadata](https://www.kaggle.com/narmelan/100-most-spoken-languages-around-the-world/metadata) of original dataset desription, we deduce that the data have been measured in 2019 and were extracted from the website [Ethnologue](https://www.ethnologue.com/). Finally, knowing that [around 6,500 languages are spoken in the world in 2021](https://blog.busuu.com/most-spoken-languages-in-the-world/), we should recognize that this database take into account only $0.015\\%$ of the spoken languages. Nevertheless, to realize the relative importance of those first 100 languages spoken in the world, we will normalize them with the world population of 2019 which was of [7.7 billion](https://www.un.org/development/desa/publications/world-population-prospects-2019-highlights.html). \n",
    "\n",
    "Finally, the resulting dataset would consist of:\n",
    "- **Language**\n",
    "- **Total Speakers**\n",
    "- **Native Speakers**\n",
    "- **Origin**\n",
    "- **Non-Native Speakers**\n",
    "- **Percentage of the world population**\n",
    "\n",
    "Using those information, we are able to consider the following questions:\n",
    "- What is the top 10 most spoken languages by native people in 2019? And by non-native?\n",
    "- How much percentage of the world population are speaking at least one of the top 10 languages as native or non-native? What about for the top 100 languages?\n",
    "- What is the origin of the top 10 most spoken languages? \n",
    "\n",
    "\n",
    " "
   ],
   "cell_type": "markdown",
   "metadata": {}
  }
 ]
}